{
 "cells": [
  {
   "cell_type": "code",
   "execution_count": 50,
   "metadata": {},
   "outputs": [],
   "source": [
    "from matplotlib import image\n",
    "from matplotlib import pyplot\n",
    "from skimage.color import rgb2gray\n",
    "import json\n",
    "import cv2\n",
    "import numpy as np \n",
    "# load image as pixel array\n",
    "# summarize shape of the pixel array\n"
   ]
  },
  {
   "cell_type": "code",
   "execution_count": 51,
   "metadata": {},
   "outputs": [],
   "source": [
    "image1 = cv2.imread('E:\\study\\placement study\\KLA\\KLA_workshop\\Level_1_data\\wafer_image_1.png',0)\n",
    "image2 = cv2.imread('E:\\study\\placement study\\KLA\\KLA_workshop\\Level_1_data\\wafer_image_2.png',0)\n",
    "image3 = cv2.imread('E:\\study\\placement study\\KLA\\KLA_workshop\\Level_1_data\\wafer_image_3.png',0)\n",
    "image4 = cv2.imread('E:\\study\\placement study\\KLA\\KLA_workshop\\Level_1_data\\wafer_image_4.png',0)\n",
    "image5 = cv2.imread('E:\\study\\placement study\\KLA\\KLA_workshop\\Level_1_data\\wafer_image_5.png',0)"
   ]
  },
  {
   "cell_type": "markdown",
   "metadata": {},
   "source": [
    "gray1 = cv2.cvtColor(image1, cv2.COLOR_BGR2GRAY)\n",
    "gray2 = cv2.cvtColor(image2, cv2.COLOR_BGR2GRAY)\n",
    "gray3 = cv2.cvtColor(image3, cv2.COLOR_BGR2GRAY)\n",
    "gray4 = cv2.cvtColor(image4, cv2.COLOR_BGR2GRAY)\n",
    "gray5 = cv2.cvtColor(image5, cv2.COLOR_BGR2GRAY)"
   ]
  },
  {
   "cell_type": "code",
   "execution_count": null,
   "metadata": {},
   "outputs": [],
   "source": []
  },
  {
   "cell_type": "code",
   "execution_count": 52,
   "metadata": {},
   "outputs": [],
   "source": [
    "d1=np.array(image1)\n",
    "d2=np.array(image2)\n",
    "d3=np.array(image3)\n",
    "d4=np.array(image4)\n",
    "d5=np.array(image5)"
   ]
  },
  {
   "cell_type": "code",
   "execution_count": 53,
   "metadata": {},
   "outputs": [
    {
     "data": {
      "text/plain": [
       "(600, 800)"
      ]
     },
     "execution_count": 53,
     "metadata": {},
     "output_type": "execute_result"
    }
   ],
   "source": [
    "d1.shape"
   ]
  },
  {
   "cell_type": "markdown",
   "metadata": {},
   "source": [
    "I findout the number of differences between images and number of non identical pixels among them"
   ]
  },
  {
   "cell_type": "markdown",
   "metadata": {},
   "source": [
    "and there is total number of pixels different in two images"
   ]
  },
  {
   "cell_type": "code",
   "execution_count": 63,
   "metadata": {},
   "outputs": [
    {
     "name": "stdout",
     "output_type": "stream",
     "text": [
      "(0, 1, 9894)\n",
      "(0, 2, 9907)\n",
      "(0, 3, 9910)\n",
      "(0, 4, 9899)\n",
      "(1, 2, 9898)\n",
      "(1, 3, 9884)\n",
      "(1, 4, 9905)\n",
      "(2, 3, 9915)\n",
      "(2, 4, 9903)\n",
      "(3, 4, 9902)\n"
     ]
    }
   ],
   "source": [
    "images=[d1,d2,d3,d4,d5]\n",
    "\n",
    "def nonZeroPixels(array1,array2):\n",
    "    pixels = []\n",
    "    for i, row in enumerate(array1-array2):\n",
    "        for j, pixel in enumerate(row):\n",
    "            if pixel != 0:\n",
    "                pixels.append((i, j))\n",
    "    return len(pixels)\n",
    "for i, image1 in enumerate(images):\n",
    "    for j, image2 in enumerate(images):\n",
    "        if i < j:\n",
    "            print((i, j, nonZeroPixels(image1, image2)))"
   ]
  },
  {
   "cell_type": "code",
   "execution_count": null,
   "metadata": {},
   "outputs": [],
   "source": []
  },
  {
   "cell_type": "markdown",
   "metadata": {},
   "source": [
    "d1 ==d2"
   ]
  }
 ],
 "metadata": {
  "kernelspec": {
   "display_name": "Python 3",
   "language": "python",
   "name": "python3"
  },
  "language_info": {
   "codemirror_mode": {
    "name": "ipython",
    "version": 3
   },
   "file_extension": ".py",
   "mimetype": "text/x-python",
   "name": "python",
   "nbconvert_exporter": "python",
   "pygments_lexer": "ipython3",
   "version": "3.7.6"
  }
 },
 "nbformat": 4,
 "nbformat_minor": 4
}
